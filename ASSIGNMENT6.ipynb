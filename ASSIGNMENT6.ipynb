{
  "nbformat": 4,
  "nbformat_minor": 0,
  "metadata": {
    "colab": {
      "provenance": []
    },
    "kernelspec": {
      "name": "python3",
      "display_name": "Python 3"
    },
    "language_info": {
      "name": "python"
    }
  },
  "cells": [
    {
      "cell_type": "code",
      "source": [
        "import numpy as np\n",
        "import pandas as pd\n",
        "from sklearn.datasets import load_digits\n",
        "from sklearn.model_selection import train_test_split, GridSearchCV, RandomizedSearchCV\n",
        "from sklearn.preprocessing import StandardScaler\n",
        "from sklearn.metrics import accuracy_score, precision_score, recall_score, f1_score\n",
        "from sklearn.linear_model import LogisticRegression\n",
        "from sklearn.ensemble import RandomForestClassifier\n",
        "from sklearn.svm import SVC\n"
      ],
      "metadata": {
        "id": "RqoUYUGzHcCq"
      },
      "execution_count": 11,
      "outputs": []
    },
    {
      "cell_type": "code",
      "source": [
        "data = load_digits()\n",
        "X = data.data\n",
        "y = data.target\n",
        "dataset_name = \"Digits\"\n",
        "\n",
        "X_train, X_test, y_train, y_test = train_test_split(X, y, test_size=0.3, random_state=42)\n",
        "scaler = StandardScaler()\n",
        "X_train = scaler.fit_transform(X_train)\n",
        "X_test = scaler.transform(X_test)\n"
      ],
      "metadata": {
        "id": "fabfAj_9Iftl"
      },
      "execution_count": 12,
      "outputs": []
    },
    {
      "cell_type": "code",
      "source": [
        "models = {\n",
        "    \"Logistic Regression\": LogisticRegression(max_iter=500),\n",
        "    \"Random Forest\": RandomForestClassifier(),\n",
        "    \"SVM\": SVC()\n",
        "}\n"
      ],
      "metadata": {
        "id": "ibZPtoGBIiqx"
      },
      "execution_count": 13,
      "outputs": []
    },
    {
      "cell_type": "code",
      "source": [
        "results = []\n",
        "\n",
        "def evaluate_model(name, model):\n",
        "    model.fit(X_train, y_train)\n",
        "    y_pred = model.predict(X_test)\n",
        "    acc = accuracy_score(y_test, y_pred)\n",
        "    prec = precision_score(y_test, y_pred, average='macro')\n",
        "    rec = recall_score(y_test, y_pred, average='macro')\n",
        "    f1 = f1_score(y_test, y_pred, average='macro')\n",
        "    results.append({\"Model\": name, \"Accuracy\": acc, \"Precision\": prec, \"Recall\": rec, \"F1 Score\": f1})\n",
        "    print(f\"\\n{name} Performance:\")\n",
        "    print(f\"Accuracy: {acc:.4f}, Precision: {prec:.4f}, Recall: {rec:.4f}, F1 Score: {f1:.4f}\")\n"
      ],
      "metadata": {
        "id": "MZMOru4cIlQm"
      },
      "execution_count": 14,
      "outputs": []
    },
    {
      "cell_type": "code",
      "source": [
        "for name, model in models.items():\n",
        "    evaluate_model(name, model)\n"
      ],
      "metadata": {
        "colab": {
          "base_uri": "https://localhost:8080/"
        },
        "id": "_-WQSIWeImzy",
        "outputId": "cb99906e-2c91-411f-9d20-8a4a876e2f85"
      },
      "execution_count": 15,
      "outputs": [
        {
          "output_type": "stream",
          "name": "stdout",
          "text": [
            "\n",
            "Logistic Regression Performance:\n",
            "Accuracy: 0.9704, Precision: 0.9698, Recall: 0.9710, F1 Score: 0.9699\n",
            "\n",
            "Random Forest Performance:\n",
            "Accuracy: 0.9741, Precision: 0.9741, Recall: 0.9747, F1 Score: 0.9742\n",
            "\n",
            "SVM Performance:\n",
            "Accuracy: 0.9796, Precision: 0.9792, Recall: 0.9794, F1 Score: 0.9790\n"
          ]
        }
      ]
    },
    {
      "cell_type": "code",
      "source": [
        "logreg_params = {\n",
        "    'C': [0.01, 0.1, 1, 10],\n",
        "    'solver': ['liblinear', 'lbfgs']\n",
        "}\n",
        "grid_logreg = GridSearchCV(LogisticRegression(max_iter=500), logreg_params, cv=5, scoring='f1_macro')\n",
        "grid_logreg.fit(X_train, y_train)\n",
        "print(\"\\nBest Logistic Regression Parameters:\", grid_logreg.best_params_)\n",
        "evaluate_model(\"Tuned Logistic Regression\", grid_logreg.best_estimator_)\n"
      ],
      "metadata": {
        "colab": {
          "base_uri": "https://localhost:8080/"
        },
        "id": "4POP9HLNIn7D",
        "outputId": "2070620e-9873-4f72-a2e7-88e1420892d6"
      },
      "execution_count": 16,
      "outputs": [
        {
          "output_type": "stream",
          "name": "stdout",
          "text": [
            "\n",
            "Best Logistic Regression Parameters: {'C': 1, 'solver': 'lbfgs'}\n",
            "\n",
            "Tuned Logistic Regression Performance:\n",
            "Accuracy: 0.9704, Precision: 0.9698, Recall: 0.9710, F1 Score: 0.9699\n"
          ]
        }
      ]
    },
    {
      "cell_type": "code",
      "source": [
        "rf_params = {\n",
        "    'n_estimators': [50, 100],\n",
        "    'max_depth': [None, 10, 20],\n",
        "    'min_samples_split': [2, 5]\n",
        "}\n",
        "grid_rf = GridSearchCV(RandomForestClassifier(), rf_params, cv=5, scoring='f1_macro')\n",
        "grid_rf.fit(X_train, y_train)\n",
        "print(\"\\nBest Random Forest Parameters:\", grid_rf.best_params_)\n",
        "evaluate_model(\"Tuned Random Forest\", grid_rf.best_estimator_)\n"
      ],
      "metadata": {
        "colab": {
          "base_uri": "https://localhost:8080/"
        },
        "id": "t9Ckuwn1IpwN",
        "outputId": "6e6106f8-bc6d-448c-c937-3b7b097df1d2"
      },
      "execution_count": 17,
      "outputs": [
        {
          "output_type": "stream",
          "name": "stdout",
          "text": [
            "\n",
            "Best Random Forest Parameters: {'max_depth': 20, 'min_samples_split': 2, 'n_estimators': 100}\n",
            "\n",
            "Tuned Random Forest Performance:\n",
            "Accuracy: 0.9741, Precision: 0.9745, Recall: 0.9750, F1 Score: 0.9746\n"
          ]
        }
      ]
    },
    {
      "cell_type": "code",
      "source": [
        "svm_params = {\n",
        "    'C': [0.1, 1, 10],\n",
        "    'kernel': ['linear', 'rbf'],\n",
        "    'gamma': ['scale', 'auto']\n",
        "}\n",
        "rand_svm = RandomizedSearchCV(SVC(), svm_params, n_iter=5, cv=5, scoring='f1_macro', random_state=42)\n",
        "rand_svm.fit(X_train, y_train)\n",
        "print(\"\\nBest SVM Parameters:\", rand_svm.best_params_)\n",
        "evaluate_model(\"Tuned SVM\", rand_svm.best_estimator_)\n"
      ],
      "metadata": {
        "colab": {
          "base_uri": "https://localhost:8080/"
        },
        "id": "LvkRWTp-Ixbb",
        "outputId": "cf0c176a-f98f-46e2-dca3-37528c4c2516"
      },
      "execution_count": 18,
      "outputs": [
        {
          "output_type": "stream",
          "name": "stdout",
          "text": [
            "\n",
            "Best SVM Parameters: {'kernel': 'rbf', 'gamma': 'scale', 'C': 10}\n",
            "\n",
            "Tuned SVM Performance:\n",
            "Accuracy: 0.9796, Precision: 0.9790, Recall: 0.9796, F1 Score: 0.9791\n"
          ]
        }
      ]
    },
    {
      "cell_type": "code",
      "source": [
        "print(\"\\n📊 Final Model Performance Comparison on Digits Dataset:\")\n",
        "df_results = pd.DataFrame(results)\n",
        "print(df_results.sort_values(by=\"F1 Score\", ascending=False).reset_index(drop=True))\n"
      ],
      "metadata": {
        "colab": {
          "base_uri": "https://localhost:8080/"
        },
        "id": "y13txpUBJK4q",
        "outputId": "2e3ed2c1-c31a-4917-d017-2d3fcb7899c8"
      },
      "execution_count": 19,
      "outputs": [
        {
          "output_type": "stream",
          "name": "stdout",
          "text": [
            "\n",
            "📊 Final Model Performance Comparison on Digits Dataset:\n",
            "                       Model  Accuracy  Precision    Recall  F1 Score\n",
            "0                  Tuned SVM  0.979630   0.978971  0.979557  0.979081\n",
            "1                        SVM  0.979630   0.979208  0.979377  0.979029\n",
            "2        Tuned Random Forest  0.974074   0.974534  0.974961  0.974608\n",
            "3              Random Forest  0.974074   0.974066  0.974728  0.974235\n",
            "4        Logistic Regression  0.970370   0.969846  0.970960  0.969921\n",
            "5  Tuned Logistic Regression  0.970370   0.969846  0.970960  0.969921\n"
          ]
        }
      ]
    },
    {
      "cell_type": "code",
      "source": [],
      "metadata": {
        "id": "Gsp_E02EJMrD"
      },
      "execution_count": null,
      "outputs": []
    }
  ]
}